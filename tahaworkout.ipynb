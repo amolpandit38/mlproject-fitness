{
 "cells": [
  {
   "cell_type": "code",
   "execution_count": 1,
   "id": "2a4d1c21-cd8f-4ece-929d-9edfcb7b0ecc",
   "metadata": {},
   "outputs": [],
   "source": [
    "import numpy as np\n",
    "import pandas as pd\n",
    "import seaborn as sns"
   ]
  },
  {
   "cell_type": "code",
   "execution_count": 13,
   "id": "ac1675af-28d4-4fc0-9424-97d23cddefff",
   "metadata": {},
   "outputs": [],
   "source": [
    "df = pd.read_csv(\"megaGymDataset.csv\", header = 0,  index_col = 0)"
   ]
  },
  {
   "cell_type": "code",
   "execution_count": 14,
   "id": "b8f65f3b-5b34-4283-acb4-54a146c15d2e",
   "metadata": {},
   "outputs": [
    {
     "data": {
      "text/html": [
       "<div>\n",
       "<style scoped>\n",
       "    .dataframe tbody tr th:only-of-type {\n",
       "        vertical-align: middle;\n",
       "    }\n",
       "\n",
       "    .dataframe tbody tr th {\n",
       "        vertical-align: top;\n",
       "    }\n",
       "\n",
       "    .dataframe thead th {\n",
       "        text-align: right;\n",
       "    }\n",
       "</style>\n",
       "<table border=\"1\" class=\"dataframe\">\n",
       "  <thead>\n",
       "    <tr style=\"text-align: right;\">\n",
       "      <th></th>\n",
       "      <th>Title</th>\n",
       "      <th>Desc</th>\n",
       "      <th>Type</th>\n",
       "      <th>BodyPart</th>\n",
       "      <th>Equipment</th>\n",
       "      <th>Level</th>\n",
       "      <th>Rating</th>\n",
       "      <th>RatingDesc</th>\n",
       "    </tr>\n",
       "  </thead>\n",
       "  <tbody>\n",
       "    <tr>\n",
       "      <th>0</th>\n",
       "      <td>Partner plank band row</td>\n",
       "      <td>The partner plank band row is an abdominal exe...</td>\n",
       "      <td>Strength</td>\n",
       "      <td>Abdominals</td>\n",
       "      <td>Bands</td>\n",
       "      <td>Intermediate</td>\n",
       "      <td>0.0</td>\n",
       "      <td>NaN</td>\n",
       "    </tr>\n",
       "    <tr>\n",
       "      <th>1</th>\n",
       "      <td>Banded crunch isometric hold</td>\n",
       "      <td>The banded crunch isometric hold is an exercis...</td>\n",
       "      <td>Strength</td>\n",
       "      <td>Abdominals</td>\n",
       "      <td>Bands</td>\n",
       "      <td>Intermediate</td>\n",
       "      <td>NaN</td>\n",
       "      <td>NaN</td>\n",
       "    </tr>\n",
       "    <tr>\n",
       "      <th>2</th>\n",
       "      <td>FYR Banded Plank Jack</td>\n",
       "      <td>The banded plank jack is a variation on the pl...</td>\n",
       "      <td>Strength</td>\n",
       "      <td>Abdominals</td>\n",
       "      <td>Bands</td>\n",
       "      <td>Intermediate</td>\n",
       "      <td>NaN</td>\n",
       "      <td>NaN</td>\n",
       "    </tr>\n",
       "    <tr>\n",
       "      <th>3</th>\n",
       "      <td>Banded crunch</td>\n",
       "      <td>The banded crunch is an exercise targeting the...</td>\n",
       "      <td>Strength</td>\n",
       "      <td>Abdominals</td>\n",
       "      <td>Bands</td>\n",
       "      <td>Intermediate</td>\n",
       "      <td>NaN</td>\n",
       "      <td>NaN</td>\n",
       "    </tr>\n",
       "    <tr>\n",
       "      <th>4</th>\n",
       "      <td>Crunch</td>\n",
       "      <td>The crunch is a popular core exercise targetin...</td>\n",
       "      <td>Strength</td>\n",
       "      <td>Abdominals</td>\n",
       "      <td>Bands</td>\n",
       "      <td>Intermediate</td>\n",
       "      <td>NaN</td>\n",
       "      <td>NaN</td>\n",
       "    </tr>\n",
       "  </tbody>\n",
       "</table>\n",
       "</div>"
      ],
      "text/plain": [
       "                          Title  \\\n",
       "0        Partner plank band row   \n",
       "1  Banded crunch isometric hold   \n",
       "2         FYR Banded Plank Jack   \n",
       "3                 Banded crunch   \n",
       "4                        Crunch   \n",
       "\n",
       "                                                Desc      Type    BodyPart  \\\n",
       "0  The partner plank band row is an abdominal exe...  Strength  Abdominals   \n",
       "1  The banded crunch isometric hold is an exercis...  Strength  Abdominals   \n",
       "2  The banded plank jack is a variation on the pl...  Strength  Abdominals   \n",
       "3  The banded crunch is an exercise targeting the...  Strength  Abdominals   \n",
       "4  The crunch is a popular core exercise targetin...  Strength  Abdominals   \n",
       "\n",
       "  Equipment         Level  Rating RatingDesc  \n",
       "0     Bands  Intermediate     0.0        NaN  \n",
       "1     Bands  Intermediate     NaN        NaN  \n",
       "2     Bands  Intermediate     NaN        NaN  \n",
       "3     Bands  Intermediate     NaN        NaN  \n",
       "4     Bands  Intermediate     NaN        NaN  "
      ]
     },
     "execution_count": 14,
     "metadata": {},
     "output_type": "execute_result"
    }
   ],
   "source": [
    "df.head()"
   ]
  },
  {
   "cell_type": "code",
   "execution_count": 15,
   "id": "5eb1fee5-9ff6-487b-af23-15af8c0049b7",
   "metadata": {},
   "outputs": [
    {
     "data": {
      "text/plain": [
       "Title         2909\n",
       "Desc          1050\n",
       "Type             7\n",
       "BodyPart        17\n",
       "Equipment       13\n",
       "Level            3\n",
       "Rating          72\n",
       "RatingDesc       1\n",
       "dtype: int64"
      ]
     },
     "execution_count": 15,
     "metadata": {},
     "output_type": "execute_result"
    }
   ],
   "source": [
    "df.nunique()"
   ]
  },
  {
   "cell_type": "code",
   "execution_count": 16,
   "id": "b6e97232-467c-4882-b438-38a69a9b7ebd",
   "metadata": {},
   "outputs": [],
   "source": [
    "del df[\"Rating\"]"
   ]
  },
  {
   "cell_type": "code",
   "execution_count": 17,
   "id": "fd7eeaf0-8a71-41b8-b3a0-46322ef4047a",
   "metadata": {},
   "outputs": [
    {
     "data": {
      "text/html": [
       "<div>\n",
       "<style scoped>\n",
       "    .dataframe tbody tr th:only-of-type {\n",
       "        vertical-align: middle;\n",
       "    }\n",
       "\n",
       "    .dataframe tbody tr th {\n",
       "        vertical-align: top;\n",
       "    }\n",
       "\n",
       "    .dataframe thead th {\n",
       "        text-align: right;\n",
       "    }\n",
       "</style>\n",
       "<table border=\"1\" class=\"dataframe\">\n",
       "  <thead>\n",
       "    <tr style=\"text-align: right;\">\n",
       "      <th></th>\n",
       "      <th>Title</th>\n",
       "      <th>Desc</th>\n",
       "      <th>Type</th>\n",
       "      <th>BodyPart</th>\n",
       "      <th>Equipment</th>\n",
       "      <th>Level</th>\n",
       "      <th>RatingDesc</th>\n",
       "    </tr>\n",
       "  </thead>\n",
       "  <tbody>\n",
       "    <tr>\n",
       "      <th>0</th>\n",
       "      <td>Partner plank band row</td>\n",
       "      <td>The partner plank band row is an abdominal exe...</td>\n",
       "      <td>Strength</td>\n",
       "      <td>Abdominals</td>\n",
       "      <td>Bands</td>\n",
       "      <td>Intermediate</td>\n",
       "      <td>NaN</td>\n",
       "    </tr>\n",
       "    <tr>\n",
       "      <th>1</th>\n",
       "      <td>Banded crunch isometric hold</td>\n",
       "      <td>The banded crunch isometric hold is an exercis...</td>\n",
       "      <td>Strength</td>\n",
       "      <td>Abdominals</td>\n",
       "      <td>Bands</td>\n",
       "      <td>Intermediate</td>\n",
       "      <td>NaN</td>\n",
       "    </tr>\n",
       "    <tr>\n",
       "      <th>2</th>\n",
       "      <td>FYR Banded Plank Jack</td>\n",
       "      <td>The banded plank jack is a variation on the pl...</td>\n",
       "      <td>Strength</td>\n",
       "      <td>Abdominals</td>\n",
       "      <td>Bands</td>\n",
       "      <td>Intermediate</td>\n",
       "      <td>NaN</td>\n",
       "    </tr>\n",
       "    <tr>\n",
       "      <th>3</th>\n",
       "      <td>Banded crunch</td>\n",
       "      <td>The banded crunch is an exercise targeting the...</td>\n",
       "      <td>Strength</td>\n",
       "      <td>Abdominals</td>\n",
       "      <td>Bands</td>\n",
       "      <td>Intermediate</td>\n",
       "      <td>NaN</td>\n",
       "    </tr>\n",
       "    <tr>\n",
       "      <th>4</th>\n",
       "      <td>Crunch</td>\n",
       "      <td>The crunch is a popular core exercise targetin...</td>\n",
       "      <td>Strength</td>\n",
       "      <td>Abdominals</td>\n",
       "      <td>Bands</td>\n",
       "      <td>Intermediate</td>\n",
       "      <td>NaN</td>\n",
       "    </tr>\n",
       "  </tbody>\n",
       "</table>\n",
       "</div>"
      ],
      "text/plain": [
       "                          Title  \\\n",
       "0        Partner plank band row   \n",
       "1  Banded crunch isometric hold   \n",
       "2         FYR Banded Plank Jack   \n",
       "3                 Banded crunch   \n",
       "4                        Crunch   \n",
       "\n",
       "                                                Desc      Type    BodyPart  \\\n",
       "0  The partner plank band row is an abdominal exe...  Strength  Abdominals   \n",
       "1  The banded crunch isometric hold is an exercis...  Strength  Abdominals   \n",
       "2  The banded plank jack is a variation on the pl...  Strength  Abdominals   \n",
       "3  The banded crunch is an exercise targeting the...  Strength  Abdominals   \n",
       "4  The crunch is a popular core exercise targetin...  Strength  Abdominals   \n",
       "\n",
       "  Equipment         Level RatingDesc  \n",
       "0     Bands  Intermediate        NaN  \n",
       "1     Bands  Intermediate        NaN  \n",
       "2     Bands  Intermediate        NaN  \n",
       "3     Bands  Intermediate        NaN  \n",
       "4     Bands  Intermediate        NaN  "
      ]
     },
     "execution_count": 17,
     "metadata": {},
     "output_type": "execute_result"
    }
   ],
   "source": [
    "df.head()"
   ]
  },
  {
   "cell_type": "code",
   "execution_count": 18,
   "id": "afac2cbc-9427-4f2f-8b21-cec373140a3b",
   "metadata": {},
   "outputs": [],
   "source": [
    "del df[\"RatingDesc\"]"
   ]
  },
  {
   "cell_type": "code",
   "execution_count": 19,
   "id": "677eb39c-3d02-408d-878d-1aca61a957d3",
   "metadata": {},
   "outputs": [
    {
     "data": {
      "text/html": [
       "<div>\n",
       "<style scoped>\n",
       "    .dataframe tbody tr th:only-of-type {\n",
       "        vertical-align: middle;\n",
       "    }\n",
       "\n",
       "    .dataframe tbody tr th {\n",
       "        vertical-align: top;\n",
       "    }\n",
       "\n",
       "    .dataframe thead th {\n",
       "        text-align: right;\n",
       "    }\n",
       "</style>\n",
       "<table border=\"1\" class=\"dataframe\">\n",
       "  <thead>\n",
       "    <tr style=\"text-align: right;\">\n",
       "      <th></th>\n",
       "      <th>Title</th>\n",
       "      <th>Desc</th>\n",
       "      <th>Type</th>\n",
       "      <th>BodyPart</th>\n",
       "      <th>Equipment</th>\n",
       "      <th>Level</th>\n",
       "    </tr>\n",
       "  </thead>\n",
       "  <tbody>\n",
       "    <tr>\n",
       "      <th>0</th>\n",
       "      <td>Partner plank band row</td>\n",
       "      <td>The partner plank band row is an abdominal exe...</td>\n",
       "      <td>Strength</td>\n",
       "      <td>Abdominals</td>\n",
       "      <td>Bands</td>\n",
       "      <td>Intermediate</td>\n",
       "    </tr>\n",
       "    <tr>\n",
       "      <th>1</th>\n",
       "      <td>Banded crunch isometric hold</td>\n",
       "      <td>The banded crunch isometric hold is an exercis...</td>\n",
       "      <td>Strength</td>\n",
       "      <td>Abdominals</td>\n",
       "      <td>Bands</td>\n",
       "      <td>Intermediate</td>\n",
       "    </tr>\n",
       "    <tr>\n",
       "      <th>2</th>\n",
       "      <td>FYR Banded Plank Jack</td>\n",
       "      <td>The banded plank jack is a variation on the pl...</td>\n",
       "      <td>Strength</td>\n",
       "      <td>Abdominals</td>\n",
       "      <td>Bands</td>\n",
       "      <td>Intermediate</td>\n",
       "    </tr>\n",
       "    <tr>\n",
       "      <th>3</th>\n",
       "      <td>Banded crunch</td>\n",
       "      <td>The banded crunch is an exercise targeting the...</td>\n",
       "      <td>Strength</td>\n",
       "      <td>Abdominals</td>\n",
       "      <td>Bands</td>\n",
       "      <td>Intermediate</td>\n",
       "    </tr>\n",
       "    <tr>\n",
       "      <th>4</th>\n",
       "      <td>Crunch</td>\n",
       "      <td>The crunch is a popular core exercise targetin...</td>\n",
       "      <td>Strength</td>\n",
       "      <td>Abdominals</td>\n",
       "      <td>Bands</td>\n",
       "      <td>Intermediate</td>\n",
       "    </tr>\n",
       "  </tbody>\n",
       "</table>\n",
       "</div>"
      ],
      "text/plain": [
       "                          Title  \\\n",
       "0        Partner plank band row   \n",
       "1  Banded crunch isometric hold   \n",
       "2         FYR Banded Plank Jack   \n",
       "3                 Banded crunch   \n",
       "4                        Crunch   \n",
       "\n",
       "                                                Desc      Type    BodyPart  \\\n",
       "0  The partner plank band row is an abdominal exe...  Strength  Abdominals   \n",
       "1  The banded crunch isometric hold is an exercis...  Strength  Abdominals   \n",
       "2  The banded plank jack is a variation on the pl...  Strength  Abdominals   \n",
       "3  The banded crunch is an exercise targeting the...  Strength  Abdominals   \n",
       "4  The crunch is a popular core exercise targetin...  Strength  Abdominals   \n",
       "\n",
       "  Equipment         Level  \n",
       "0     Bands  Intermediate  \n",
       "1     Bands  Intermediate  \n",
       "2     Bands  Intermediate  \n",
       "3     Bands  Intermediate  \n",
       "4     Bands  Intermediate  "
      ]
     },
     "execution_count": 19,
     "metadata": {},
     "output_type": "execute_result"
    }
   ],
   "source": [
    "df.head()"
   ]
  },
  {
   "cell_type": "code",
   "execution_count": 20,
   "id": "fb736525-54f9-4e36-8579-91318cfc9f14",
   "metadata": {},
   "outputs": [],
   "source": [
    "del df[\"Desc\"]"
   ]
  },
  {
   "cell_type": "code",
   "execution_count": 21,
   "id": "db203953-e152-49ac-a865-94f1e97e17bc",
   "metadata": {},
   "outputs": [
    {
     "data": {
      "text/html": [
       "<div>\n",
       "<style scoped>\n",
       "    .dataframe tbody tr th:only-of-type {\n",
       "        vertical-align: middle;\n",
       "    }\n",
       "\n",
       "    .dataframe tbody tr th {\n",
       "        vertical-align: top;\n",
       "    }\n",
       "\n",
       "    .dataframe thead th {\n",
       "        text-align: right;\n",
       "    }\n",
       "</style>\n",
       "<table border=\"1\" class=\"dataframe\">\n",
       "  <thead>\n",
       "    <tr style=\"text-align: right;\">\n",
       "      <th></th>\n",
       "      <th>Title</th>\n",
       "      <th>Type</th>\n",
       "      <th>BodyPart</th>\n",
       "      <th>Equipment</th>\n",
       "      <th>Level</th>\n",
       "    </tr>\n",
       "  </thead>\n",
       "  <tbody>\n",
       "    <tr>\n",
       "      <th>0</th>\n",
       "      <td>Partner plank band row</td>\n",
       "      <td>Strength</td>\n",
       "      <td>Abdominals</td>\n",
       "      <td>Bands</td>\n",
       "      <td>Intermediate</td>\n",
       "    </tr>\n",
       "    <tr>\n",
       "      <th>1</th>\n",
       "      <td>Banded crunch isometric hold</td>\n",
       "      <td>Strength</td>\n",
       "      <td>Abdominals</td>\n",
       "      <td>Bands</td>\n",
       "      <td>Intermediate</td>\n",
       "    </tr>\n",
       "    <tr>\n",
       "      <th>2</th>\n",
       "      <td>FYR Banded Plank Jack</td>\n",
       "      <td>Strength</td>\n",
       "      <td>Abdominals</td>\n",
       "      <td>Bands</td>\n",
       "      <td>Intermediate</td>\n",
       "    </tr>\n",
       "    <tr>\n",
       "      <th>3</th>\n",
       "      <td>Banded crunch</td>\n",
       "      <td>Strength</td>\n",
       "      <td>Abdominals</td>\n",
       "      <td>Bands</td>\n",
       "      <td>Intermediate</td>\n",
       "    </tr>\n",
       "    <tr>\n",
       "      <th>4</th>\n",
       "      <td>Crunch</td>\n",
       "      <td>Strength</td>\n",
       "      <td>Abdominals</td>\n",
       "      <td>Bands</td>\n",
       "      <td>Intermediate</td>\n",
       "    </tr>\n",
       "  </tbody>\n",
       "</table>\n",
       "</div>"
      ],
      "text/plain": [
       "                          Title      Type    BodyPart Equipment         Level\n",
       "0        Partner plank band row  Strength  Abdominals     Bands  Intermediate\n",
       "1  Banded crunch isometric hold  Strength  Abdominals     Bands  Intermediate\n",
       "2         FYR Banded Plank Jack  Strength  Abdominals     Bands  Intermediate\n",
       "3                 Banded crunch  Strength  Abdominals     Bands  Intermediate\n",
       "4                        Crunch  Strength  Abdominals     Bands  Intermediate"
      ]
     },
     "execution_count": 21,
     "metadata": {},
     "output_type": "execute_result"
    }
   ],
   "source": [
    "df.head()"
   ]
  },
  {
   "cell_type": "code",
   "execution_count": 22,
   "id": "f1a9541e-1911-48ce-b2cb-54f261eb6ae5",
   "metadata": {},
   "outputs": [
    {
     "data": {
      "text/plain": [
       "Title        2909\n",
       "Type            7\n",
       "BodyPart       17\n",
       "Equipment      13\n",
       "Level           3\n",
       "dtype: int64"
      ]
     },
     "execution_count": 22,
     "metadata": {},
     "output_type": "execute_result"
    }
   ],
   "source": [
    "df.nunique()"
   ]
  },
  {
   "cell_type": "code",
   "execution_count": 23,
   "id": "a105df35-c104-42cc-943c-218783252bbc",
   "metadata": {},
   "outputs": [
    {
     "data": {
      "text/html": [
       "<div>\n",
       "<style scoped>\n",
       "    .dataframe tbody tr th:only-of-type {\n",
       "        vertical-align: middle;\n",
       "    }\n",
       "\n",
       "    .dataframe tbody tr th {\n",
       "        vertical-align: top;\n",
       "    }\n",
       "\n",
       "    .dataframe thead th {\n",
       "        text-align: right;\n",
       "    }\n",
       "</style>\n",
       "<table border=\"1\" class=\"dataframe\">\n",
       "  <thead>\n",
       "    <tr style=\"text-align: right;\">\n",
       "      <th></th>\n",
       "      <th>Title</th>\n",
       "      <th>Type</th>\n",
       "      <th>BodyPart</th>\n",
       "      <th>Equipment</th>\n",
       "      <th>Level</th>\n",
       "    </tr>\n",
       "  </thead>\n",
       "  <tbody>\n",
       "    <tr>\n",
       "      <th>count</th>\n",
       "      <td>2918</td>\n",
       "      <td>2918</td>\n",
       "      <td>2918</td>\n",
       "      <td>2918</td>\n",
       "      <td>2918</td>\n",
       "    </tr>\n",
       "    <tr>\n",
       "      <th>unique</th>\n",
       "      <td>2909</td>\n",
       "      <td>7</td>\n",
       "      <td>17</td>\n",
       "      <td>13</td>\n",
       "      <td>3</td>\n",
       "    </tr>\n",
       "    <tr>\n",
       "      <th>top</th>\n",
       "      <td>Seated Cable Rows</td>\n",
       "      <td>Strength</td>\n",
       "      <td>Abdominals</td>\n",
       "      <td>Body Only</td>\n",
       "      <td>Intermediate</td>\n",
       "    </tr>\n",
       "    <tr>\n",
       "      <th>freq</th>\n",
       "      <td>3</td>\n",
       "      <td>2545</td>\n",
       "      <td>662</td>\n",
       "      <td>1078</td>\n",
       "      <td>2446</td>\n",
       "    </tr>\n",
       "  </tbody>\n",
       "</table>\n",
       "</div>"
      ],
      "text/plain": [
       "                    Title      Type    BodyPart  Equipment         Level\n",
       "count                2918      2918        2918       2918          2918\n",
       "unique               2909         7          17         13             3\n",
       "top     Seated Cable Rows  Strength  Abdominals  Body Only  Intermediate\n",
       "freq                    3      2545         662       1078          2446"
      ]
     },
     "execution_count": 23,
     "metadata": {},
     "output_type": "execute_result"
    }
   ],
   "source": [
    "df.describe()"
   ]
  },
  {
   "cell_type": "code",
   "execution_count": 26,
   "id": "5106677a-bb8e-4237-92e8-c5856f5ebae9",
   "metadata": {},
   "outputs": [],
   "source": [
    "list_of_type = df[\"Type\"].unique()"
   ]
  },
  {
   "cell_type": "code",
   "execution_count": 31,
   "id": "d8148fbd-a110-47e5-9a14-f74c31e9ff57",
   "metadata": {},
   "outputs": [],
   "source": [
    "list_of_bodypart = df[\"BodyPart\"].unique()"
   ]
  },
  {
   "cell_type": "code",
   "execution_count": 32,
   "id": "143aa302-9576-49c5-a5b0-b430b404c2ed",
   "metadata": {},
   "outputs": [],
   "source": [
    "list_of_equipment = df[\"Equipment\"].unique()"
   ]
  },
  {
   "cell_type": "code",
   "execution_count": 33,
   "id": "ccc29429-5de0-45f7-8dfa-996e985d8a6d",
   "metadata": {},
   "outputs": [],
   "source": [
    "list_of_level = df[\"Level\"].unique()"
   ]
  },
  {
   "cell_type": "code",
   "execution_count": 34,
   "id": "7daecd37-f9fc-41b5-9a19-61b4733a5e8b",
   "metadata": {},
   "outputs": [
    {
     "name": "stdout",
     "output_type": "stream",
     "text": [
      "['Strength' 'Plyometrics' 'Cardio' 'Stretching' 'Powerlifting' 'Strongman'\n",
      " 'Olympic Weightlifting']\n",
      "['Abdominals' 'Adductors' 'Abductors' 'Biceps' 'Calves' 'Chest' 'Forearms'\n",
      " 'Glutes' 'Hamstrings' 'Lats' 'Lower Back' 'Middle Back' 'Traps' 'Neck'\n",
      " 'Quadriceps' 'Shoulders' 'Triceps']\n",
      "['Bands' 'Barbell' 'Kettlebells' 'Dumbbell' 'Other' 'Cable' 'Machine'\n",
      " 'Body Only' 'Medicine Ball' 'None' 'Exercise Ball' 'Foam Roll'\n",
      " 'E-Z Curl Bar']\n",
      "['Intermediate' 'Beginner' 'Expert']\n"
     ]
    }
   ],
   "source": [
    "print(list_of_type)\n",
    "print(list_of_bodypart)\n",
    "print(list_of_equipment)\n",
    "print(list_of_level)"
   ]
  },
  {
   "cell_type": "code",
   "execution_count": null,
   "id": "069dafd4-08a7-4c8c-9fef-06d4245230fd",
   "metadata": {},
   "outputs": [],
   "source": []
  },
  {
   "cell_type": "code",
   "execution_count": null,
   "id": "438cf3cb-1bea-40cd-91c1-6f536e0fe54b",
   "metadata": {},
   "outputs": [],
   "source": []
  }
 ],
 "metadata": {
  "kernelspec": {
   "display_name": "Python 3 (ipykernel)",
   "language": "python",
   "name": "python3"
  },
  "language_info": {
   "codemirror_mode": {
    "name": "ipython",
    "version": 3
   },
   "file_extension": ".py",
   "mimetype": "text/x-python",
   "name": "python",
   "nbconvert_exporter": "python",
   "pygments_lexer": "ipython3",
   "version": "3.10.9"
  }
 },
 "nbformat": 4,
 "nbformat_minor": 5
}
